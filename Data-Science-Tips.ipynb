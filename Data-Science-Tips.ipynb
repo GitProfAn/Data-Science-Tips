{
    "cells": [
        {
            "cell_type": "markdown",
            "source": [
                "## Вопросы для интервью по специальности Data Science\n",
                "\n",
                "[Вопросы с ответами https://interview-mds.ru/](https://interview-mds.ru/)"
            ],
            "metadata": {}
        },
        {
            "cell_type": "markdown",
            "source": [],
            "metadata": {}
        },
        {
            "source": [
                "## Вопросы https://interview-mds.ru/ с ответами\n",
                "[Перечень вопросов с google-docs](https://docs.google.com/document/d/1eeP6R36Ur7aTFica7uBkx8FlaQKSE8dHamdnoAJCVUM/edit)"
            ],
            "cell_type": "markdown",
            "metadata": {}
        }
    ],
    "metadata": {
        "orig_nbformat": 4,
        "language_info": {
            "name": "python",
            "version": "3.8.10"
        },
        "kernelspec": {
            "name": "python3",
            "display_name": "Python 3.8.10 64-bit"
        },
        "interpreter": {
            "hash": "3410afedb74081d81603511028deadddc25ba0f01c14e0cb891e2c2473f81884"
        }
    },
    "nbformat": 4,
    "nbformat_minor": 2
}