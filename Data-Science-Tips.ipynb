{
    "cells": [
        {
            "cell_type": "markdown",
            "source": [
                "[Вопросы с ответами https://interview-mds.ru/](https://interview-mds.ru/)"
            ],
            "metadata": {}
        },
        {
            "cell_type": "markdown",
            "source": [],
            "metadata": {}
        }
    ],
    "metadata": {
        "orig_nbformat": 4,
        "language_info": {
            "name": "python",
            "version": "3.8.10"
        },
        "kernelspec": {
            "name": "python3",
            "display_name": "Python 3.8.10 64-bit"
        },
        "interpreter": {
            "hash": "3410afedb74081d81603511028deadddc25ba0f01c14e0cb891e2c2473f81884"
        }
    },
    "nbformat": 4,
    "nbformat_minor": 2
}